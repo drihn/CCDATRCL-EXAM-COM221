{
  "cells": [
    {
      "cell_type": "markdown",
      "metadata": {
        "id": "view-in-github"
      },
      "source": [
        "<a href=\"https://colab.research.google.com/github/robitussin/CCDATRCL_EXAM/blob/main/exam1.ipynb\" target=\"_parent\"><img src=\"https://colab.research.google.com/assets/colab-badge.svg\" alt=\"Open In Colab\"/></a>"
      ]
    },
    {
      "cell_type": "markdown",
      "metadata": {
        "id": "yaz2B0KGFehP"
      },
      "source": [
        "# Midterm Exam 💛💙"
      ]
    },
    {
      "cell_type": "markdown",
      "metadata": {
        "id": "_DmK1ONEFehQ"
      },
      "source": [
        "**Instructions** ❗️❗️\n",
        "\n",
        "❌ Do not remove or modify the notebook **sections**, **subsections**, **exam questions** or **any text** in this python notebook\n",
        "\n",
        "✔️ Put your answer in the designated cells below each question"
      ]
    },
    {
      "cell_type": "markdown",
      "metadata": {
        "id": "TMCAXKWCFehR"
      },
      "source": [
        "## Search"
      ]
    },
    {
      "cell_type": "code",
      "execution_count": null,
      "metadata": {
        "id": "Fy8nEBRRFehR"
      },
      "outputs": [],
      "source": [
        "def linearSearch(my_list, number):\n",
        "\n",
        "    index = 0\n",
        "\n",
        "    for i in my_list:\n",
        "\n",
        "        if my_list[index] == number:\n",
        "            return index\n",
        "\n",
        "        index = index + 1\n",
        "\n",
        "    return -1"
      ]
    },
    {
      "cell_type": "markdown",
      "metadata": {
        "id": "AjAevpueFehS"
      },
      "source": [
        "1. Using **linear search**, write a `findLargestIncrease()` function to find the largest increase in value between two adjacent numbers in your student number `(10 points)`\n",
        "\n",
        "    **Example:**\n",
        "\n",
        "    student_number = [2,0,2,2,6,2,5,1,9,3]\n",
        "\n",
        "    **Expected Output:**\n",
        "\n",
        "    findLargestIncrease(student_number)\n",
        "\n",
        "    Output: Between 1 and 9\n",
        "\n",
        "    **Explanation:**\n",
        "\n",
        "    From this student_number, the largest increase happened from number 1 to number 9"
      ]
    },
    {
      "cell_type": "code",
      "execution_count": null,
      "metadata": {
        "id": "JE8nEfyJFehS"
      },
      "outputs": [],
      "source": [
        "# put your answer here\n",
        "\n",
        "student_number = [2,0,2,2,1,0,4,6,0,1]\n",
        "\n",
        "def findLargestIncrease(student_number):\n",
        "    if len(student_number) < 2:\n",
        "        return \"Not enough elements\"\n",
        "\n",
        "    max_increase = float('-inf')\n",
        "    start_index = -1\n",
        "    end_index = -1\n",
        "\n",
        "    for i in range(len(student_number) - 1):\n",
        "        current_increase = student_number[i + 1] - student_number[i]\n",
        "        if current_increase > max_increase:\n",
        "            max_increase = current_increase\n",
        "            start_index = i\n",
        "            end_index = i + 1\n",
        "\n",
        "    if start_index != -1 and end_index != -1:\n",
        "        return f\"Between {student_number[start_index]} and {student_number[end_index]}\"\n",
        "    else:\n",
        "        return \"No increase found.\"\n"
      ]
    },
    {
      "cell_type": "code",
      "execution_count": null,
      "metadata": {
        "colab": {
          "base_uri": "https://localhost:8080/"
        },
        "id": "0r-Qf-E0r9wB",
        "outputId": "5c91f208-9d13-4ad0-84bc-6b2b1f5eeeb4"
      },
      "outputs": [
        {
          "output_type": "stream",
          "name": "stdout",
          "text": [
            "Output: Between 0 and 4\n"
          ]
        }
      ],
      "source": [
        "result = findLargestIncrease(student_number)\n",
        "print(\"Output:\", result)"
      ]
    },
    {
      "cell_type": "markdown",
      "metadata": {
        "id": "nMyr1fNyFehS"
      },
      "source": [
        "2. Using **linear search**, write a `findLargestDecrease()` function to find the largest decrease in value between two adjacent numbers in your student number `(10 points)`\n",
        "\n",
        "    **Example:**\n",
        "\n",
        "    student_number = [2,0,2,2,6,2,5,1,9,3]\n",
        "\n",
        "    **Expected Output:**\n",
        "\n",
        "    findLargestDecrease(student_number)\n",
        "\n",
        "    Output: Between 9 and 3\n",
        "\n",
        "    **Explanation:**\n",
        "\n",
        "    From this student_number, the largest decrease happened from number 9 to number 3"
      ]
    },
    {
      "cell_type": "code",
      "execution_count": null,
      "metadata": {
        "id": "bfMfQVbVFehS"
      },
      "outputs": [],
      "source": [
        "# put your answer here\n",
        "def findLargestDecrease(student_number):\n",
        "    if len(student_number) < 2:\n",
        "        return \"Not enough elements.\"\n",
        "2\n",
        "    max_decrease = float('inf')\n",
        "    start_index = -1\n",
        "    end_index = -1\n",
        "\n",
        "    for i in range(len(student_number) - 1):\n",
        "        current_decrease = student_number[i + 1] - student_number[i]\n",
        "        if current_decrease < max_decrease:\n",
        "            max_decrease = current_decrease\n",
        "            start_index = i\n",
        "            end_index = i + 1\n",
        "\n",
        "    if start_index != -1 and end_index != -1:\n",
        "        return f\"Between {student_number[start_index]} and {student_number[end_index]}\"\n",
        "    else:\n",
        "        return \"No decrease found.\"\n"
      ]
    },
    {
      "cell_type": "code",
      "execution_count": null,
      "metadata": {
        "id": "EDCLU8JWr9wC",
        "outputId": "7a2a3655-db54-4e09-a356-4e93956c5bde"
      },
      "outputs": [
        {
          "name": "stdout",
          "output_type": "stream",
          "text": [
            "Output: Between 4 and 0\n"
          ]
        }
      ],
      "source": [
        "result = findLargestDecrease(student_number)\n",
        "print(\"Output:\", result)"
      ]
    },
    {
      "cell_type": "markdown",
      "metadata": {
        "id": "NtKSQn9QFehS"
      },
      "source": [
        "## Linked List"
      ]
    },
    {
      "cell_type": "code",
      "execution_count": null,
      "metadata": {
        "id": "0HP5zyJcFehS"
      },
      "outputs": [],
      "source": [
        "class Node:\n",
        "\n",
        "    def __init__(self, data):\n",
        "        self.data = data\n",
        "        self.next = None  # null"
      ]
    },
    {
      "cell_type": "code",
      "execution_count": null,
      "metadata": {
        "id": "A-8Uefe7FehS"
      },
      "outputs": [],
      "source": [
        "class LinkedList:\n",
        "\n",
        "    def __init__(self):\n",
        "        self.head = None\n",
        "\n",
        "    def traverse(self, node):\n",
        "        while node:\n",
        "            print(node.data, end=\" -> \")\n",
        "            node = node.next\n"
      ]
    },
    {
      "cell_type": "markdown",
      "metadata": {
        "id": "uPgIJJuSFehT"
      },
      "source": [
        "**Instructions** ❗️❗️\n",
        "\n",
        "Use the pre-defined linked list class/functions to create a linked list"
      ]
    },
    {
      "cell_type": "markdown",
      "metadata": {
        "id": "WIwpW7Q2FehT"
      },
      "source": [
        "1. Create a Singly linked list named **num_list** and print all of its elements. `(5 points)`\n",
        "\n",
        "- **num_list** should contain all digits of your student number.\n",
        "\n",
        "    **Expected Output:**\n",
        "\n",
        "    print(num_list)\n",
        "\n",
        "    [2, 0, 2, 2, 1, 2, 3, 4, 5, 6]"
      ]
    },
    {
      "cell_type": "code",
      "execution_count": null,
      "metadata": {
        "id": "Lihv0JPiFehT",
        "colab": {
          "base_uri": "https://localhost:8080/"
        },
        "outputId": "65d113a6-1e16-4780-8308-0b5bcdca9745"
      },
      "outputs": [
        {
          "output_type": "stream",
          "name": "stdout",
          "text": [
            "2 -> 0 -> 2 -> 2 -> 1 -> 0 -> 4 -> 6 -> 0 -> 1 -> "
          ]
        }
      ],
      "source": [
        "class Node:\n",
        "    def __init__(self, data):\n",
        "        self.data = data\n",
        "        self.next = None\n",
        "\n",
        "class LinkedList:\n",
        "    def __init__(self):\n",
        "        self.head = None\n",
        "\n",
        "    def traverse(self, node):\n",
        "        while node:\n",
        "            print(node.data, end=\" -> \")\n",
        "            node = node.next\n",
        "\n",
        "# Define your student number\n",
        "student_number = [2, 0, 2, 2, 1, 0, 4, 6, 0, 1]\n",
        "\n",
        "# Create the linked list\n",
        "num_list = LinkedList()\n",
        "current_node = None\n",
        "\n",
        "# Populate the linked list with the digits of the student number\n",
        "for digit in student_number:\n",
        "    new_node = Node(digit)\n",
        "    if num_list.head is None:\n",
        "        num_list.head = new_node\n",
        "        current_node = new_node\n",
        "    else:\n",
        "        current_node.next = new_node\n",
        "        current_node = new_node\n",
        "\n",
        "# Print the elements of the linked list\n",
        "num_list.traverse(num_list.head)\n"
      ]
    },
    {
      "cell_type": "markdown",
      "metadata": {
        "id": "dqA2UYrYFehT"
      },
      "source": [
        "2. Write a `hasPrime()` function to test whether a prime number is in the last six digits of **num_list**. `(5 points)`\n",
        "\n",
        "- If a prime number is in the last six digits of **num_list**, the method should return **true**\n",
        "\n",
        "- If a prime number is not in the last six digits of **num_list**, the method should return **false**\n",
        "\n",
        "    **Expected Output:**\n",
        "\n",
        "    hasPrime(num_list)\n",
        "\n",
        "    True"
      ]
    },
    {
      "cell_type": "code",
      "execution_count": null,
      "metadata": {
        "id": "GYwsQNz5FehT",
        "colab": {
          "base_uri": "https://localhost:8080/"
        },
        "outputId": "b1081764-97ea-459a-f2dd-c435c3a5ca55"
      },
      "outputs": [
        {
          "output_type": "stream",
          "name": "stdout",
          "text": [
            "False\n"
          ]
        }
      ],
      "source": [
        "def is_prime(number):\n",
        "    if number <= 1:\n",
        "        return False\n",
        "    if number <= 3:\n",
        "        return True\n",
        "    if number % 2 == 0 or number % 3 == 0:\n",
        "        return False\n",
        "    i = 5\n",
        "    while i * i <= number:\n",
        "        if number % i == 0 or number % (i + 2) == 0:\n",
        "            return False\n",
        "        i += 6\n",
        "    return True\n",
        "\n",
        "def hasPrime(num_list):\n",
        "    current_node = num_list.head\n",
        "    last_six_digits = []\n",
        "\n",
        "    # Traverse the last six digits of the linked list and store them in a list\n",
        "    while current_node:\n",
        "        last_six_digits.append(current_node.data)\n",
        "        if len(last_six_digits) > 6:\n",
        "            last_six_digits.pop(0)\n",
        "        current_node = current_node.next\n",
        "\n",
        "    # Check if any of the last six digits is prime\n",
        "    for digit in reversed(last_six_digits):\n",
        "        if is_prime(digit):\n",
        "     return True\n",
        "    return False\n",
        "\n",
        "result = hasPrime(num_list)\n",
        "print(result)\n"
      ]
    },
    {
      "cell_type": "markdown",
      "metadata": {
        "id": "5Qb0BOiwFehT"
      },
      "source": [
        "3. Write a `removeZeroes()` function to remove all occurrences of zeroes in **num_list**. `(5 points)`\n",
        "\n",
        "- If a zero is in **num_list**, return **num_list**\n",
        "\n",
        "- If there are no zeroes in **num_list**, return **\"no zeros found\"**\n",
        "\n",
        "    **Expected Output:**\n",
        "\n",
        "    removeZeroes(num_list)\n",
        "\n",
        "    [2, 2, 1, 2, 3, 4, 5, 6]"
      ]
    },
    {
      "cell_type": "code",
      "execution_count": null,
      "metadata": {
        "id": "k1vAHUYuFehT",
        "colab": {
          "base_uri": "https://localhost:8080/"
        },
        "outputId": "9807d903-1939-4e8e-f96f-40f466e20e92"
      },
      "outputs": [
        {
          "output_type": "stream",
          "name": "stdout",
          "text": [
            "2 -> 2 -> 2 -> 1 -> 4 -> 6 -> 1 -> "
          ]
        }
      ],
      "source": [
        "class Node:\n",
        "    def __init__(self, data):\n",
        "        self.data = data\n",
        "        self.next = None\n",
        "\n",
        "class LinkedList:\n",
        "    def __init__(self):\n",
        "        self.head = None\n",
        "\n",
        "    def traverse(self, node):\n",
        "        while node:\n",
        "            print(node.data, end=\" -> \")\n",
        "            node = node.next\n",
        "\n",
        "def removeZeroes(num_list):\n",
        "    current_node = num_list.head\n",
        "    prev_node = None\n",
        "\n",
        "    while current_node:\n",
        "        if current_node.data == 0:\n",
        "            if prev_node is None:\n",
        "                num_list.head = current_node.next\n",
        "            else:\n",
        "                prev_node.next = current_node.next\n",
        "        else:\n",
        "            prev_node = current_node\n",
        "        current_node = current_node.next\n",
        "\n",
        "    if num_list.head is None:\n",
        "        return \"no zeros found\"\n",
        "    else:\n",
        "        return num_list\n",
        "result = removeZeroes(num_list)\n",
        "\n",
        "if isinstance(result, str):\n",
        "    print(result)\n",
        "\n",
        "else:\n",
        "    # If result is not a string, print the modified num_list\n",
        "    num_list.traverse(result.head)\n"
      ]
    },
    {
      "cell_type": "markdown",
      "metadata": {
        "id": "SKAlpglNFehT"
      },
      "source": [
        "4. Insert a dash symbol between the 4th and 5th digit in **num_list**. `(5 points)`\n",
        "\n",
        "    **Expected Output:**\n",
        "\n",
        "    print(num_list)\n",
        "\n",
        "    [2, 0, 2, 2, \"-\", 1, 2, 3, 4, 5, 6]"
      ]
    },
    {
      "cell_type": "code",
      "execution_count": null,
      "metadata": {
        "id": "vF7fimZ-FehT"
      },
      "outputs": [],
      "source": [
        "# put your answer here\n",
        "num_list = number_list(student_number)\n",
        "\n",
        "def insertDash(num_list):\n",
        "    current = num_list.head\n",
        "    count = 0\n",
        "\n",
        "    while current is not None:\n",
        "        count += 1\n",
        "        if count == 4:\n",
        "            new_node = Node(\"-\")\n",
        "            new_node.next = current.next\n",
        "            current.next = new_node\n",
        "            break\n",
        "\n",
        "        current = current.next"
      ]
    },
    {
      "cell_type": "code",
      "execution_count": null,
      "metadata": {
        "id": "oG_ESvigr9wG",
        "outputId": "70ed6659-5772-45ac-e3b0-032b1a65a57c"
      },
      "outputs": [
        {
          "name": "stdout",
          "output_type": "stream",
          "text": [
            "2 -> 0 -> 2 -> 2 -> - -> 1 -> 0 -> 4 -> 0 -> 1 -> 9 -> "
          ]
        }
      ],
      "source": [
        "insertDash(num_list)\n",
        "num_list.traverse(num_list.head)"
      ]
    },
    {
      "cell_type": "markdown",
      "metadata": {
        "id": "KkC-LgdxFehT"
      },
      "source": [
        "## Stack"
      ]
    },
    {
      "cell_type": "code",
      "execution_count": null,
      "metadata": {
        "id": "UYTqB1u_FehU"
      },
      "outputs": [],
      "source": [
        "# Creating a stack\n",
        "def create_stack():\n",
        "    stack = []\n",
        "    return stack\n",
        "\n",
        "\n",
        "def print_stack(stack):\n",
        "\n",
        "    if (check_empty(stack)):\n",
        "        return \"stack is empty\"\n",
        "\n",
        "    # Create a copy of the stack and reverse the elements\n",
        "    tempStack = stack.copy()\n",
        "    tempStack.reverse()\n",
        "\n",
        "    # Print all elements using a loop\n",
        "    for i in tempStack:\n",
        "        print(i)\n",
        "\n",
        "    # Delete the copy to free up memory\n",
        "    del tempStack\n",
        "\n",
        "# Creating an empty stack\n",
        "\n",
        "\n",
        "def check_empty(stack):\n",
        "    return len(stack) == 0\n",
        "\n",
        "\n",
        "# Adding items into the stack\n",
        "def push(stack, item):\n",
        "    stack.append(item)\n",
        "    print(\"pushed item: \" + item)\n",
        "\n",
        "\n",
        "# Removing an element from the stack\n",
        "def pop(stack):\n",
        "    if (check_empty(stack)):\n",
        "        return \"stack is empty\"\n",
        "\n",
        "    return stack.pop()\n",
        "\n",
        "\n",
        "def peek(stack):\n",
        "\n",
        "    # Use negative indexing to display the last element of the list\n",
        "    print(stack[-1])"
      ]
    },
    {
      "cell_type": "markdown",
      "metadata": {
        "id": "wLAQchs8FehU"
      },
      "source": [
        "**Instructions** ❗️❗️\n",
        "\n",
        "Use the pre-defined stack class/functions to create a stack"
      ]
    },
    {
      "cell_type": "markdown",
      "metadata": {
        "id": "37cg9BoCFehU"
      },
      "source": [
        "1. Create two (2) stacks named **name_stack** and **num_stack** `(5 points)`\n",
        "\n",
        "- **name_stack** should contain all letters of your first name.\n",
        "- **num_stack** should contain all digits of your student number.\n",
        "\n",
        "    **Expected Output:**\n",
        "\n",
        "    print(name_stack)\n",
        "\n",
        "    ['E', 'L', 'I', 'Z', 'E', 'R']\n",
        "\n",
        "    print(num_stack)\n",
        "\n",
        "    [2,0,2,2,1,2,3,4,5,6]"
      ]
    },
    {
      "cell_type": "code",
      "execution_count": null,
      "metadata": {
        "id": "HlUIUQzQFehU",
        "colab": {
          "base_uri": "https://localhost:8080/"
        },
        "outputId": "35219832-cbb5-40b8-fd9a-59b7887f1178"
      },
      "outputs": [
        {
          "output_type": "stream",
          "name": "stdout",
          "text": [
            "pushed item: A\n",
            "pushed item: L\n",
            "pushed item: D\n",
            "pushed item: R\n",
            "pushed item: I\n",
            "pushed item: N\n",
            "pushed item: 2\n",
            "pushed item: 0\n",
            "pushed item: 2\n",
            "pushed item: 2\n",
            "pushed item: 1\n",
            "pushed item: 0\n",
            "pushed item: 4\n",
            "pushed item: 6\n",
            "pushed item: 0\n",
            "pushed item: 1\n",
            "name_stack:\n",
            "N\n",
            "I\n",
            "R\n",
            "D\n",
            "L\n",
            "A\n",
            "num_stack:\n",
            "1\n",
            "0\n",
            "6\n",
            "4\n",
            "0\n",
            "1\n",
            "2\n",
            "2\n",
            "0\n",
            "2\n"
          ]
        }
      ],
      "source": [
        "# Create a stack using the create_stack function\n",
        "def create_stack():\n",
        "    stack = []\n",
        "    return stack\n",
        "\n",
        "# Print the stack using the print_stack function\n",
        "def print_stack(stack):\n",
        "    if (check_empty(stack)):\n",
        "        return \"stack is empty\"\n",
        "\n",
        "    # Create a copy of the stack and reverse the elements\n",
        "    tempStack = stack.copy()\n",
        "    tempStack.reverse()\n",
        "\n",
        "\n",
        "    for i in tempStack:\n",
        "        print(i)\n",
        "\n",
        "\n",
        "    del tempStack\n",
        "\n",
        "\n",
        "def check_empty(stack):\n",
        "    return len(stack) == 0\n",
        "\n",
        "\n",
        "def push(stack, item):\n",
        "    stack.append(item)\n",
        "    print(\"pushed item: \" + item)\n",
        "\n",
        "# Remove an element from the stack\n",
        "def pop(stack):\n",
        "    if (check_empty(stack)):\n",
        "        return \"stack is empty\"\n",
        "\n",
        "    return stack.pop()\n",
        "\n",
        "\n",
        "name_stack = create_stack()\n",
        "first_name = \"ALDRIN\"\n",
        "\n",
        "for letter in first_name:\n",
        "    push(name_stack, letter)\n",
        "\n",
        "\n",
        "num_stack = create_stack()\n",
        "student_number = [2, 0, 2, 2, 1, 0, 4, 6, 0, 1]\n",
        "\n",
        "for digit in student_number:\n",
        "    push(num_stack, str(digit))\n",
        "\n",
        "# Print the name_stack and num_stack\n",
        "print(\"name_stack:\")\n",
        "print_stack(name_stack)\n",
        "\n",
        "print(\"num_stack:\")\n",
        "print_stack(num_stack)\n"
      ]
    },
    {
      "cell_type": "markdown",
      "metadata": {
        "id": "8cySe9LXFehU"
      },
      "source": [
        "2. Create a stack named **my_stack** that follows the following format: `(5 points)`\n",
        "\n",
        "- The first element should be the **5th digit in your student number**\n",
        "- The succeeding elements should be the letters of your **first name**\n",
        "- The last element should be the **last digit of your student number**\n",
        "\n",
        "    **Expected Output:**\n",
        "\n",
        "    my_stack = [1, E, L, I, Z, E, R, 6]"
      ]
    },
    {
      "cell_type": "code",
      "execution_count": null,
      "metadata": {
        "id": "bEnCoAhjFehU",
        "colab": {
          "base_uri": "https://localhost:8080/"
        },
        "outputId": "a23d6dab-c0cf-416e-cbc0-8acddd931605"
      },
      "outputs": [
        {
          "output_type": "stream",
          "name": "stdout",
          "text": [
            "pushed item: 1\n",
            "pushed item: A\n",
            "pushed item: L\n",
            "pushed item: D\n",
            "pushed item: R\n",
            "pushed item: I\n",
            "pushed item: N\n",
            "pushed item: 6\n"
          ]
        }
      ],
      "source": [
        "# put your answer here\n",
        "my_stack = create_stack()\n",
        "\n",
        "push(my_stack, str(1))\n",
        "push(my_stack, 'A')\n",
        "push(my_stack, 'L')\n",
        "push(my_stack, 'D')\n",
        "push(my_stack, 'R')\n",
        "push(my_stack, 'I')\n",
        "push(my_stack, 'N')\n",
        "push(my_stack, str(6))\n"
      ]
    },
    {
      "cell_type": "markdown",
      "metadata": {
        "id": "8a8_KP5nFehU"
      },
      "source": [
        "3. Write a `verifyStack()` function that will take in `my_stack` and check if its format has been followed `(10 points)`\n",
        "\n",
        "- Return **True** if the format has been followed\n",
        "- Return **False** if the format was not followed\n",
        "- Verify the format by checking the contents of **my_stack** with **name_stack** and **num_stack**\n",
        "\n",
        "    **Expected Output:**\n",
        "\n",
        "    my_stack = [1, E, L, I, Z, E, R, 6]\n",
        "\n",
        "    verifyStack(my_stack)\n",
        "\n",
        "    True\n",
        "\n",
        "    my_stack = [1, S, L, I, Z, E, R, 7]\n",
        "\n",
        "    verifyStack(my_stack)\n",
        "\n",
        "    False"
      ]
    },
    {
      "cell_type": "code",
      "execution_count": null,
      "metadata": {
        "id": "RdANSxD0FehU"
      },
      "outputs": [],
      "source": [
        "# put your answer here\n",
        "def verifyStack(my_stack, name_stack, num_stack):\n",
        "    if check_empty(my_stack):\n",
        "        return False\n",
        "\n",
        "    lastdigit_my_stack = int(pop(my_stack))\n",
        "    lastdigit_num_stack = int(pop(num_stack))\n",
        "\n",
        "    if lastdigit_my_stack != lastdigit_num_stack:\n",
        "        return False\n",
        "\n",
        "    while not check_empty(name_stack):\n",
        "        if pop(my_stack) != pop(name_stack):\n",
        "            return False\n",
        "\n",
        "    return True"
      ]
    },
    {
      "cell_type": "code",
      "execution_count": null,
      "metadata": {
        "id": "JNbeJt9Vr9wK",
        "outputId": "8cbf0910-a04c-4c20-84a7-86b22ef76033"
      },
      "outputs": [
        {
          "name": "stdout",
          "output_type": "stream",
          "text": [
            "True\n"
          ]
        }
      ],
      "source": [
        "verify = verifyStack(my_stack, name_stack, num_stack)\n",
        "print(verify)"
      ]
    },
    {
      "cell_type": "markdown",
      "metadata": {
        "id": "UC5C64B2FehU"
      },
      "source": [
        "## Queue"
      ]
    },
    {
      "cell_type": "code",
      "execution_count": null,
      "metadata": {
        "id": "NJJ0j0LHFehU"
      },
      "outputs": [],
      "source": [
        "class Queue:\n",
        "    def __init__(self):\n",
        "        self.queue = []\n",
        "\n",
        "    # Add an element\n",
        "    def enqueue(self, item):\n",
        "        self.queue.append(item)\n",
        "\n",
        "    # Remove an element\n",
        "    def dequeue(self):\n",
        "        if len(self.queue) < 1:\n",
        "            return None\n",
        "        return self.queue.pop(0)\n",
        "\n",
        "    # Display  the queue\n",
        "    def display(self):\n",
        "        print(self.queue)\n",
        "\n",
        "    def size(self):\n",
        "        return len(self.queue)\n",
        "\n",
        "    def peek(self):\n",
        "        return self.queue[0]"
      ]
    },
    {
      "cell_type": "markdown",
      "metadata": {
        "id": "80OekpbeFehV"
      },
      "source": [
        "**Instructions** ❗️❗️\n",
        "\n",
        "Use the pre-defined queue class/functions to create a Queue"
      ]
    },
    {
      "cell_type": "markdown",
      "metadata": {
        "id": "_Hf0OP5cFehV"
      },
      "source": [
        "1. Create a simple queue named **num_queue** `(5 points)`\n",
        "\n",
        "- **num_queue** should contain all digits of your student number.\n",
        "\n",
        "    **Expected Output:**\n",
        "\n",
        "    print(num_queue)\n",
        "\n",
        "    [2,0,2,2,1,2,3,4,5,6]"
      ]
    },
    {
      "cell_type": "code",
      "execution_count": null,
      "metadata": {
        "id": "_mgmE4ArFehV",
        "colab": {
          "base_uri": "https://localhost:8080/"
        },
        "outputId": "7fb1be1e-68e1-459e-9cf0-833cc45b4c1d"
      },
      "outputs": [
        {
          "output_type": "stream",
          "name": "stdout",
          "text": [
            "num_queue:\n",
            "[2, 0, 2, 2, 1, 0, 4, 6, 0, 1]\n"
          ]
        }
      ],
      "source": [
        "class Queue:\n",
        "    def __init__(self):\n",
        "        self.queue = []\n",
        "\n",
        "    # Add an element\n",
        "    def enqueue(self, item):\n",
        "        self.queue.append(item)\n",
        "\n",
        "\n",
        "    def dequeue(self):\n",
        "        if len(self.queue) < 1:\n",
        "            return None\n",
        "        return self.queue.pop(0)\n",
        "\n",
        "\n",
        "    def display(self):\n",
        "        print(self.queue)\n",
        "\n",
        "    def size(self):\n",
        "        return len(self.queue)\n",
        "\n",
        "    def peek(self):\n",
        "        if len(self.queue) < 1:\n",
        "            return None\n",
        "        return self.queue[0]\n",
        "\n",
        "\n",
        "num_queue = Queue()\n",
        "\n",
        "# Define your student number\n",
        "student_number = [2, 0, 2, 2, 1, 0, 4, 6, 0, 1]\n",
        "\n",
        "\n",
        "for digit in student_number:\n",
        "    num_queue.enqueue(digit)\n",
        "\n",
        "\n",
        "print(\"num_queue:\")\n",
        "num_queue.display()\n"
      ]
    },
    {
      "cell_type": "markdown",
      "metadata": {
        "id": "1pHG8t6DFehV"
      },
      "source": [
        "2. Write a `getMax()` or `getMin()` function for **num_queue** `(5 points)`\n",
        "\n",
        "- If your student number ends with an odd number, create a `getMax()` function that will return the largest number in **num_queue**\n",
        "- If your student number ends with an even number, create a `getMin()` function that will return the lowest number in **num_queue**\n",
        "\n",
        "    **Expected Output for getMax():**\n",
        "\n",
        "    getMax(num_queue)\n",
        "\n",
        "    6\n",
        "\n",
        "    **Expected Output for getMin():**\n",
        "\n",
        "    getMin(num_queue)\n",
        "\n",
        "    0"
      ]
    },
    {
      "cell_type": "code",
      "execution_count": null,
      "metadata": {
        "id": "itj2U610FehV"
      },
      "outputs": [],
      "source": [
        "# put your answer here\n",
        "# student_number = [2,0,2,2,1,0,4,6,0,1]\n",
        "\n",
        "def getMax(num_queue):\n",
        "    max_number = num_queue.dequeue()\n",
        "\n",
        "    while num_queue.size() > 0:\n",
        "        num = num_queue.dequeue()\n",
        "        max_number = max(max_number, num)\n",
        "\n",
        "    return max_number\n"
      ]
    },
    {
      "cell_type": "code",
      "execution_count": null,
      "metadata": {
        "colab": {
          "base_uri": "https://localhost:8080/"
        },
        "id": "XfsAL59ar9wi",
        "outputId": "231d9ee3-3c9c-4090-fbf1-7c7cb2194d82"
      },
      "outputs": [
        {
          "output_type": "stream",
          "name": "stdout",
          "text": [
            "6\n"
          ]
        }
      ],
      "source": [
        "largest_number = getMax(num_queue)\n",
        "print(largest_number)"
      ]
    },
    {
      "cell_type": "markdown",
      "metadata": {
        "id": "YkgmP6GwFehV"
      },
      "source": [
        "3. Write a `getOdd()` or `getEven()` function for  **num_queue** `(5 points)`\n",
        "\n",
        "- If your student number ends with an **odd number**, create a `getOdd()` function that will return all odd numbers in **num_queue**\n",
        "- If your student number ends with an **even number**, create a `getEven()` function that will return all even numbers in **num_queue**\n",
        "\n",
        "    **Expected Output for getOdd():**\n",
        "\n",
        "    getOdd(num_queue)\n",
        "\n",
        "    [1, 3, 5]\n",
        "\n",
        "    **Expected Output for getEven():**\n",
        "\n",
        "    getEven(num_queue)\n",
        "\n",
        "    [0, 2, 4, 6]"
      ]
    },
    {
      "cell_type": "code",
      "execution_count": null,
      "metadata": {
        "id": "2Bc7E1zNFehV"
      },
      "outputs": [],
      "source": [
        "# put your answer here\n",
        "# student_number = [2,0,2,2,1,0,4,6,0,1]\n",
        "\n",
        "def getOdd(num_queue):\n",
        "    odd_numbers = []\n",
        "\n",
        "    while num_queue.size() > 0:\n",
        "        num = num_queue.dequeue()\n",
        "        if num % 2 != 0:\n",
        "            odd_numbers.append(num)\n",
        "\n",
        "    return odd_numbers"
      ]
    },
    {
      "cell_type": "code",
      "execution_count": null,
      "metadata": {
        "colab": {
          "base_uri": "https://localhost:8080/"
        },
        "id": "1J2H76mDr9wj",
        "outputId": "a408fda6-5c75-4f93-c2b1-342ddaa6e5ba"
      },
      "outputs": [
        {
          "output_type": "stream",
          "name": "stdout",
          "text": [
            "[1, 1]\n"
          ]
        }
      ],
      "source": [
        "for num in student_number:\n",
        "    num_queue.enqueue(num)\n",
        "\n",
        "odd_numbers = getOdd(num_queue)\n",
        "print(odd_numbers)"
      ]
    },
    {
      "cell_type": "markdown",
      "metadata": {
        "id": "kuzWF5g4FehV"
      },
      "source": [
        "4. Write a `removeDup()` function that will remove all duplicates in **num_queue** `(5 points)`\n",
        "\n",
        "    **Expected Output:**\n",
        "\n",
        "    removeDup(num_queue)\n",
        "\n",
        "    [2,0,1,3,4,5,6]"
      ]
    },
    {
      "cell_type": "code",
      "execution_count": null,
      "metadata": {
        "id": "I8LeQP8MFehY"
      },
      "outputs": [],
      "source": [
        "# put your answer here\n",
        "\n",
        "def removeDup(num_queue):\n",
        "    well_defined_elements = set()\n",
        "\n",
        "    new_queue = Queue()\n",
        "\n",
        "    while num_queue.size() > 0:\n",
        "        num = num_queue.dequeue()\n",
        "\n",
        "        if num not in well_defined_elements:\n",
        "            well_defined_elements.add(num)\n",
        "            new_queue.enqueue(num)\n",
        "\n",
        "    return new_queue"
      ]
    },
    {
      "cell_type": "code",
      "execution_count": null,
      "metadata": {
        "colab": {
          "base_uri": "https://localhost:8080/"
        },
        "id": "miZXvqzir9wk",
        "outputId": "07ae45b6-d635-49a8-d337-16d15e442518"
      },
      "outputs": [
        {
          "output_type": "stream",
          "name": "stdout",
          "text": [
            "[2, 0, 1, 4, 6]\n"
          ]
        }
      ],
      "source": [
        "for num in student_number:\n",
        "    num_queue.enqueue(num)\n",
        "\n",
        "new_queue = removeDup(num_queue)\n",
        "\n",
        "new_queue.display()"
      ]
    },
    {
      "cell_type": "markdown",
      "metadata": {
        "id": "LVfZTh8YFehZ"
      },
      "source": [
        "## Sort"
      ]
    },
    {
      "cell_type": "markdown",
      "metadata": {
        "id": "bm9lonfzFehZ"
      },
      "source": [
        "**Instructions** ❗️❗️\n",
        "\n",
        "Use the any sorting algoritms"
      ]
    },
    {
      "cell_type": "markdown",
      "metadata": {
        "id": "EJTlxhEdFehZ"
      },
      "source": [
        "1. Using any sorting algorithm, sort the **last 6 digits** of your student number in ascending order `(5 points)`\n",
        "\n",
        "    **Example:**\n",
        "\n",
        "    student_number = [2,0,2,2,6,2,5,1,3,4]\n",
        "\n",
        "    **Expected Output:**\n",
        "\n",
        "    print(student_number)\n",
        "\n",
        "    [2,0,2,2,1,2,3,4,5,6]\n"
      ]
    },
    {
      "cell_type": "code",
      "execution_count": null,
      "metadata": {
        "id": "MkZKfveOFehZ",
        "colab": {
          "base_uri": "https://localhost:8080/"
        },
        "outputId": "9f2036a1-2518-4da5-ebbf-8483c8eed062"
      },
      "outputs": [
        {
          "output_type": "stream",
          "name": "stdout",
          "text": [
            "Student Number:\n",
            "[2, 0, 2, 2, 1, 0, 4, 6, 0, 1]\n"
          ]
        }
      ],
      "source": [
        "def bubble_sort(arr):\n",
        "    n = len(arr)\n",
        "\n",
        "    for i in range(n - 1):\n",
        "        for j in range(0, n - i - 1):\n",
        "            if arr[j] > arr[j + 1]:\n",
        "                arr[j], arr[j + 1] = arr[j + 1], arr[j]\n",
        "\n",
        "# Define your student number\n",
        "student_number = [2, 0, 2, 2, 1, 0, 4, 6, 0, 1]\n",
        "\n",
        "# Sort the last six digits in ascending order\n",
        "bubble_sort(student_number[-6:])\n",
        "\n",
        "# Print the sorted student number\n",
        "print(\"Student Number:\")\n",
        "print(student_number)\n"
      ]
    },
    {
      "cell_type": "markdown",
      "metadata": {
        "id": "sC2JZRZMFehZ"
      },
      "source": [
        "2. Using your student_number, separately sort the even numbers in **increasing order** and the odd numbers in **decreasing order** `(15 points)`\n",
        "\n",
        "    **Example:**\n",
        "\n",
        "    student_number = [2,0,2,2,1,2,3,4,5,6]\n",
        "\n",
        "    **Expected Output:**\n",
        "\n",
        "    print(student_number)\n",
        "\n",
        "    [0,2,2,2,2,4,6,5,3,1]"
      ]
    },
    {
      "cell_type": "code",
      "execution_count": null,
      "metadata": {
        "id": "hWOh_ohcFehZ",
        "colab": {
          "base_uri": "https://localhost:8080/"
        },
        "outputId": "9bf86893-6ea9-4fb4-c4b9-70e95e571021"
      },
      "outputs": [
        {
          "output_type": "stream",
          "name": "stdout",
          "text": [
            "Student Number:\n",
            "[0, 0, 0, 2, 1, 2, 2, 4, 6, 1]\n"
          ]
        }
      ],
      "source": [
        "# Define your student number\n",
        "student_number = [2, 0, 2, 2, 1, 0, 4, 6, 0, 1]\n",
        "\n",
        "# Separate even and odd numbers\n",
        "even_numbers = [num for num in student_number if num % 2 == 0]\n",
        "odd_numbers = [num for num in student_number if num % 2 != 0]\n",
        "\n",
        "# Sort even numbers in increasing order\n",
        "even_numbers.sort()\n",
        "\n",
        "# Sort odd numbers in decreasing order\n",
        "odd_numbers.sort(reverse=True)\n",
        "\n",
        "# Combine the sorted even and odd numbers\n",
        "sorted_student_number = []\n",
        "even_index = 0\n",
        "odd_index = 0\n",
        "\n",
        "for num in student_number:\n",
        "    if num % 2 == 0:\n",
        "        sorted_student_number.append(even_numbers[even_index])\n",
        "        even_index += 1\n",
        "    else:\n",
        "        sorted_student_number.append(odd_numbers[odd_index])\n",
        "        odd_index += 1\n",
        "\n",
        "# Print the sorted student number\n",
        "print(\"Student Number:\")\n",
        "print(sorted_student_number)\n"
      ]
    }
  ],
  "metadata": {
    "colab": {
      "provenance": []
    },
    "kernelspec": {
      "display_name": "Python 3",
      "language": "python",
      "name": "python3"
    },
    "language_info": {
      "codemirror_mode": {
        "name": "ipython",
        "version": 3
      },
      "file_extension": ".py",
      "mimetype": "text/x-python",
      "name": "python",
      "nbconvert_exporter": "python",
      "pygments_lexer": "ipython3",
      "version": "3.10.12"
    },
    "orig_nbformat": 4
  },
  "nbformat": 4,
  "nbformat_minor": 0
}